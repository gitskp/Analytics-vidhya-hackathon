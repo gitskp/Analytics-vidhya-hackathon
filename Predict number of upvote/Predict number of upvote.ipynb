{
 "cells": [
  {
   "cell_type": "code",
   "execution_count": 14,
   "metadata": {
    "ExecuteTime": {
     "end_time": "2019-08-17T17:50:39.088142Z",
     "start_time": "2019-08-17T17:50:39.071450Z"
    }
   },
   "outputs": [],
   "source": [
    "import pandas as pd\n",
    "import numpy as np\n",
    "import seaborn as sns\n",
    "import matplotlib.pyplot as plt\n",
    "%matplotlib inline\n",
    "\n",
    "from sklearn.model_selection import train_test_split\n",
    "from sklearn.metrics import r2_score\n",
    "from sklearn.preprocessing import LabelEncoder\n",
    "from sklearn.preprocessing import StandardScaler\n",
    "from sklearn import linear_model\n",
    "from sklearn.preprocessing import PolynomialFeatures\n",
    "\n",
    "from sklearn.model_selection import train_test_split\n",
    "from skopt import BayesSearchCV\n",
    "from sklearn.metrics import mean_squared_error,r2_score\n",
    "from sklearn.model_selection import learning_curve,cross_val_score,validation_curve,train_test_split,KFold\n",
    "\n",
    "from sklearn.linear_model import LinearRegression\n",
    "from xgboost import XGBRegressor,plot_importance\n",
    "import joblib\n",
    "\n",
    "\n",
    "import statsmodels.api as sm\n",
    "from statsmodels.stats.outliers_influence import variance_inflation_factor"
   ]
  },
  {
   "cell_type": "code",
   "execution_count": 15,
   "metadata": {
    "ExecuteTime": {
     "end_time": "2019-08-17T17:50:39.383091Z",
     "start_time": "2019-08-17T17:50:39.373112Z"
    }
   },
   "outputs": [],
   "source": [
    "#functions\n",
    "def remove_by_vif(X,vif=5):\n",
    "    \"\"\"Remove columns from X whose VIF is greater than supplied 'vif'\n",
    "    Parameters:\n",
    "        X:array or dataframe containing data excluding target variable\n",
    "        vif: int or float of limiting value of VIF\n",
    "    Note:\n",
    "        This function changes X inplace\n",
    "    \"\"\"\n",
    "    \n",
    "    \n",
    "    removed=[]\n",
    "    for i in range(len(X.columns)):\n",
    "        l = [variance_inflation_factor(X.values, i) for i in range(X.shape[1])]\n",
    "        s=pd.Series(index=X.columns,data=l).sort_values(ascending=False)\n",
    "        if s.iloc[0]>vif:\n",
    "            X.drop(s.index[0],axis=1,inplace=True)\n",
    "            print(s.index[0],', VIF: ',s.iloc[0])\n",
    "            removed.append(s.index[0])\n",
    "        else:\n",
    "            break\n",
    "    return removed"
   ]
  },
  {
   "cell_type": "code",
   "execution_count": 16,
   "metadata": {
    "ExecuteTime": {
     "end_time": "2019-08-17T17:50:39.667317Z",
     "start_time": "2019-08-17T17:50:39.654473Z"
    }
   },
   "outputs": [],
   "source": [
    "def plot_validation_curve(scores,param_range,param_name,scoring='r2'):\n",
    "    \"\"\"This function plot validation curve.\n",
    "    \n",
    "    Parameters:\n",
    "        scores: scores obtained from validation_curve() method\n",
    "        param_range: list of range of parameters passed as 'param_range' in validation_curve() method\n",
    "        scoring: str\n",
    "    \"\"\"\n",
    "    n=len(param_range)\n",
    "    if scoring=='r2':\n",
    "        train_score=[scores[0][i].mean() for i in range (0,n)]\n",
    "        test_score=[scores[1][i].mean() for i in range (0,n)]\n",
    "    elif scoring=='neg_mean_squared_error':\n",
    "        train_score=[np.sqrt(-scores[0][i].mean()) for i in range (0,n)]\n",
    "        test_score=[np.sqrt(-scores[1][i].mean()) for i in range (0,n)]\n",
    "\n",
    "    fig=plt.figure(figsize=(8,6))\n",
    "    plt.plot(param_range,train_score,label='Train')\n",
    "    plt.plot(param_range,test_score,label='Test')\n",
    "    plt.xticks=param_range\n",
    "    plt.title(\"Validation curve of {}\".format(param_name),size=12)\n",
    "    plt.legend()"
   ]
  },
  {
   "cell_type": "code",
   "execution_count": null,
   "metadata": {},
   "outputs": [],
   "source": []
  },
  {
   "cell_type": "code",
   "execution_count": null,
   "metadata": {},
   "outputs": [],
   "source": []
  },
  {
   "cell_type": "code",
   "execution_count": null,
   "metadata": {},
   "outputs": [],
   "source": []
  },
  {
   "cell_type": "code",
   "execution_count": null,
   "metadata": {},
   "outputs": [],
   "source": []
  },
  {
   "cell_type": "code",
   "execution_count": null,
   "metadata": {},
   "outputs": [],
   "source": []
  },
  {
   "cell_type": "code",
   "execution_count": 17,
   "metadata": {
    "ExecuteTime": {
     "end_time": "2019-08-17T17:50:43.598786Z",
     "start_time": "2019-08-17T17:50:43.017318Z"
    }
   },
   "outputs": [
    {
     "data": {
      "text/html": [
       "<div>\n",
       "<style scoped>\n",
       "    .dataframe tbody tr th:only-of-type {\n",
       "        vertical-align: middle;\n",
       "    }\n",
       "\n",
       "    .dataframe tbody tr th {\n",
       "        vertical-align: top;\n",
       "    }\n",
       "\n",
       "    .dataframe thead th {\n",
       "        text-align: right;\n",
       "    }\n",
       "</style>\n",
       "<table border=\"1\" class=\"dataframe\">\n",
       "  <thead>\n",
       "    <tr style=\"text-align: right;\">\n",
       "      <th></th>\n",
       "      <th>ID</th>\n",
       "      <th>Tag</th>\n",
       "      <th>Reputation</th>\n",
       "      <th>Answers</th>\n",
       "      <th>Username</th>\n",
       "      <th>Views</th>\n",
       "      <th>Upvotes</th>\n",
       "    </tr>\n",
       "  </thead>\n",
       "  <tbody>\n",
       "    <tr>\n",
       "      <th>0</th>\n",
       "      <td>52664</td>\n",
       "      <td>a</td>\n",
       "      <td>3942.0</td>\n",
       "      <td>2.0</td>\n",
       "      <td>155623</td>\n",
       "      <td>7855.0</td>\n",
       "      <td>42.0</td>\n",
       "    </tr>\n",
       "    <tr>\n",
       "      <th>1</th>\n",
       "      <td>327662</td>\n",
       "      <td>a</td>\n",
       "      <td>26046.0</td>\n",
       "      <td>12.0</td>\n",
       "      <td>21781</td>\n",
       "      <td>55801.0</td>\n",
       "      <td>1175.0</td>\n",
       "    </tr>\n",
       "    <tr>\n",
       "      <th>2</th>\n",
       "      <td>468453</td>\n",
       "      <td>c</td>\n",
       "      <td>1358.0</td>\n",
       "      <td>4.0</td>\n",
       "      <td>56177</td>\n",
       "      <td>8067.0</td>\n",
       "      <td>60.0</td>\n",
       "    </tr>\n",
       "    <tr>\n",
       "      <th>3</th>\n",
       "      <td>96996</td>\n",
       "      <td>a</td>\n",
       "      <td>264.0</td>\n",
       "      <td>3.0</td>\n",
       "      <td>168793</td>\n",
       "      <td>27064.0</td>\n",
       "      <td>9.0</td>\n",
       "    </tr>\n",
       "    <tr>\n",
       "      <th>4</th>\n",
       "      <td>131465</td>\n",
       "      <td>c</td>\n",
       "      <td>4271.0</td>\n",
       "      <td>4.0</td>\n",
       "      <td>112223</td>\n",
       "      <td>13986.0</td>\n",
       "      <td>83.0</td>\n",
       "    </tr>\n",
       "  </tbody>\n",
       "</table>\n",
       "</div>"
      ],
      "text/plain": [
       "       ID Tag  Reputation  Answers  Username    Views  Upvotes\n",
       "0   52664   a      3942.0      2.0    155623   7855.0     42.0\n",
       "1  327662   a     26046.0     12.0     21781  55801.0   1175.0\n",
       "2  468453   c      1358.0      4.0     56177   8067.0     60.0\n",
       "3   96996   a       264.0      3.0    168793  27064.0      9.0\n",
       "4  131465   c      4271.0      4.0    112223  13986.0     83.0"
      ]
     },
     "execution_count": 17,
     "metadata": {},
     "output_type": "execute_result"
    }
   ],
   "source": [
    "train = pd.read_csv(\"train_NIR5Yl1.csv\")\n",
    "train.head()"
   ]
  },
  {
   "cell_type": "code",
   "execution_count": 18,
   "metadata": {
    "ExecuteTime": {
     "end_time": "2019-08-17T17:50:44.278096Z",
     "start_time": "2019-08-17T17:50:44.269083Z"
    }
   },
   "outputs": [
    {
     "data": {
      "text/plain": [
       "(330045, 7)"
      ]
     },
     "execution_count": 18,
     "metadata": {},
     "output_type": "execute_result"
    }
   ],
   "source": [
    "train.shape"
   ]
  },
  {
   "cell_type": "code",
   "execution_count": 19,
   "metadata": {
    "ExecuteTime": {
     "end_time": "2019-08-17T17:50:44.985079Z",
     "start_time": "2019-08-17T17:50:44.579194Z"
    }
   },
   "outputs": [
    {
     "data": {
      "image/png": "[encoded data removed]",
      "text/plain": [
       "<Figure size 432x288 with 1 Axes>"
      ]
     },
     "metadata": {
      "needs_background": "light"
     },
     "output_type": "display_data"
    }
   ],
   "source": [
    "sns.countplot('Tag',data=train)\n",
    "plt.show()\n"
   ]
  },
  {
   "cell_type": "code",
   "execution_count": 20,
   "metadata": {
    "ExecuteTime": {
     "end_time": "2019-08-17T17:50:45.684020Z",
     "start_time": "2019-08-17T17:50:45.680266Z"
    }
   },
   "outputs": [],
   "source": [
    "num_features=['Reputation', 'Answers', 'Views']"
   ]
  },
  {
   "cell_type": "code",
   "execution_count": 21,
   "metadata": {
    "ExecuteTime": {
     "end_time": "2019-08-17T17:50:46.577293Z",
     "start_time": "2019-08-17T17:50:46.364275Z"
    }
   },
   "outputs": [],
   "source": [
    "#1. Getting polynomial features and selecting only newly created features\n",
    "poly=PolynomialFeatures(degree=2,include_bias=False)\n",
    "tmp=pd.DataFrame(poly.fit_transform(train[num_features])).loc[:,len(num_features):]\n",
    "train=train.join(tmp)"
   ]
  },
  {
   "cell_type": "code",
   "execution_count": 22,
   "metadata": {
    "ExecuteTime": {
     "end_time": "2019-08-17T17:50:47.340168Z",
     "start_time": "2019-08-17T17:50:47.316880Z"
    }
   },
   "outputs": [
    {
     "data": {
      "text/html": [
       "<div>\n",
       "<style scoped>\n",
       "    .dataframe tbody tr th:only-of-type {\n",
       "        vertical-align: middle;\n",
       "    }\n",
       "\n",
       "    .dataframe tbody tr th {\n",
       "        vertical-align: top;\n",
       "    }\n",
       "\n",
       "    .dataframe thead th {\n",
       "        text-align: right;\n",
       "    }\n",
       "</style>\n",
       "<table border=\"1\" class=\"dataframe\">\n",
       "  <thead>\n",
       "    <tr style=\"text-align: right;\">\n",
       "      <th></th>\n",
       "      <th>ID</th>\n",
       "      <th>Tag</th>\n",
       "      <th>Reputation</th>\n",
       "      <th>Answers</th>\n",
       "      <th>Username</th>\n",
       "      <th>Views</th>\n",
       "      <th>Upvotes</th>\n",
       "      <th>3</th>\n",
       "      <th>4</th>\n",
       "      <th>5</th>\n",
       "      <th>6</th>\n",
       "      <th>7</th>\n",
       "      <th>8</th>\n",
       "    </tr>\n",
       "  </thead>\n",
       "  <tbody>\n",
       "    <tr>\n",
       "      <th>0</th>\n",
       "      <td>52664</td>\n",
       "      <td>a</td>\n",
       "      <td>3942.0</td>\n",
       "      <td>2.0</td>\n",
       "      <td>155623</td>\n",
       "      <td>7855.0</td>\n",
       "      <td>42.0</td>\n",
       "      <td>15539364.0</td>\n",
       "      <td>7884.0</td>\n",
       "      <td>3.096441e+07</td>\n",
       "      <td>4.0</td>\n",
       "      <td>15710.0</td>\n",
       "      <td>6.170102e+07</td>\n",
       "    </tr>\n",
       "    <tr>\n",
       "      <th>1</th>\n",
       "      <td>327662</td>\n",
       "      <td>a</td>\n",
       "      <td>26046.0</td>\n",
       "      <td>12.0</td>\n",
       "      <td>21781</td>\n",
       "      <td>55801.0</td>\n",
       "      <td>1175.0</td>\n",
       "      <td>678394116.0</td>\n",
       "      <td>312552.0</td>\n",
       "      <td>1.453393e+09</td>\n",
       "      <td>144.0</td>\n",
       "      <td>669612.0</td>\n",
       "      <td>3.113752e+09</td>\n",
       "    </tr>\n",
       "  </tbody>\n",
       "</table>\n",
       "</div>"
      ],
      "text/plain": [
       "       ID Tag  Reputation  Answers  Username    Views  Upvotes            3  \\\n",
       "0   52664   a      3942.0      2.0    155623   7855.0     42.0   15539364.0   \n",
       "1  327662   a     26046.0     12.0     21781  55801.0   1175.0  678394116.0   \n",
       "\n",
       "          4             5      6         7             8  \n",
       "0    7884.0  3.096441e+07    4.0   15710.0  6.170102e+07  \n",
       "1  312552.0  1.453393e+09  144.0  669612.0  3.113752e+09  "
      ]
     },
     "execution_count": 22,
     "metadata": {},
     "output_type": "execute_result"
    }
   ],
   "source": [
    "train.head(2)"
   ]
  },
  {
   "cell_type": "code",
   "execution_count": 23,
   "metadata": {
    "ExecuteTime": {
     "end_time": "2019-08-17T17:50:48.238750Z",
     "start_time": "2019-08-17T17:50:47.906174Z"
    }
   },
   "outputs": [],
   "source": [
    "#2. Tag-wise mean of numberical features\n",
    "tmp=train.groupby('Tag')[num_features].mean()\n",
    "tmp.columns=tmp.columns+'_mean'\n",
    "train=pd.merge(train,tmp.reset_index(),how='left',on='Tag')"
   ]
  },
  {
   "cell_type": "code",
   "execution_count": 24,
   "metadata": {
    "ExecuteTime": {
     "end_time": "2019-08-17T17:50:48.334860Z",
     "start_time": "2019-08-17T17:50:48.296181Z"
    }
   },
   "outputs": [
    {
     "data": {
      "text/html": [
       "<div>\n",
       "<style scoped>\n",
       "    .dataframe tbody tr th:only-of-type {\n",
       "        vertical-align: middle;\n",
       "    }\n",
       "\n",
       "    .dataframe tbody tr th {\n",
       "        vertical-align: top;\n",
       "    }\n",
       "\n",
       "    .dataframe thead th {\n",
       "        text-align: right;\n",
       "    }\n",
       "</style>\n",
       "<table border=\"1\" class=\"dataframe\">\n",
       "  <thead>\n",
       "    <tr style=\"text-align: right;\">\n",
       "      <th></th>\n",
       "      <th>ID</th>\n",
       "      <th>Tag</th>\n",
       "      <th>Reputation</th>\n",
       "      <th>Answers</th>\n",
       "      <th>Username</th>\n",
       "      <th>Views</th>\n",
       "      <th>Upvotes</th>\n",
       "      <th>3</th>\n",
       "      <th>4</th>\n",
       "      <th>5</th>\n",
       "      <th>6</th>\n",
       "      <th>7</th>\n",
       "      <th>8</th>\n",
       "      <th>Reputation_mean</th>\n",
       "      <th>Answers_mean</th>\n",
       "      <th>Views_mean</th>\n",
       "    </tr>\n",
       "  </thead>\n",
       "  <tbody>\n",
       "    <tr>\n",
       "      <th>0</th>\n",
       "      <td>52664</td>\n",
       "      <td>a</td>\n",
       "      <td>3942.0</td>\n",
       "      <td>2.0</td>\n",
       "      <td>155623</td>\n",
       "      <td>7855.0</td>\n",
       "      <td>42.0</td>\n",
       "      <td>15539364.0</td>\n",
       "      <td>7884.0</td>\n",
       "      <td>3.096441e+07</td>\n",
       "      <td>4.0</td>\n",
       "      <td>15710.0</td>\n",
       "      <td>6.170102e+07</td>\n",
       "      <td>6065.168102</td>\n",
       "      <td>4.259189</td>\n",
       "      <td>31800.916327</td>\n",
       "    </tr>\n",
       "    <tr>\n",
       "      <th>1</th>\n",
       "      <td>327662</td>\n",
       "      <td>a</td>\n",
       "      <td>26046.0</td>\n",
       "      <td>12.0</td>\n",
       "      <td>21781</td>\n",
       "      <td>55801.0</td>\n",
       "      <td>1175.0</td>\n",
       "      <td>678394116.0</td>\n",
       "      <td>312552.0</td>\n",
       "      <td>1.453393e+09</td>\n",
       "      <td>144.0</td>\n",
       "      <td>669612.0</td>\n",
       "      <td>3.113752e+09</td>\n",
       "      <td>6065.168102</td>\n",
       "      <td>4.259189</td>\n",
       "      <td>31800.916327</td>\n",
       "    </tr>\n",
       "  </tbody>\n",
       "</table>\n",
       "</div>"
      ],
      "text/plain": [
       "       ID Tag  Reputation  Answers  Username    Views  Upvotes            3  \\\n",
       "0   52664   a      3942.0      2.0    155623   7855.0     42.0   15539364.0   \n",
       "1  327662   a     26046.0     12.0     21781  55801.0   1175.0  678394116.0   \n",
       "\n",
       "          4             5      6         7             8  Reputation_mean  \\\n",
       "0    7884.0  3.096441e+07    4.0   15710.0  6.170102e+07      6065.168102   \n",
       "1  312552.0  1.453393e+09  144.0  669612.0  3.113752e+09      6065.168102   \n",
       "\n",
       "   Answers_mean    Views_mean  \n",
       "0      4.259189  31800.916327  \n",
       "1      4.259189  31800.916327  "
      ]
     },
     "execution_count": 24,
     "metadata": {},
     "output_type": "execute_result"
    }
   ],
   "source": [
    "train.head(2)"
   ]
  },
  {
   "cell_type": "code",
   "execution_count": 25,
   "metadata": {
    "ExecuteTime": {
     "end_time": "2019-08-17T17:50:51.372965Z",
     "start_time": "2019-08-17T17:50:50.740203Z"
    }
   },
   "outputs": [],
   "source": [
    "# Username wise count of upvotes. Fill nulls with 0\n",
    "uname_count=train.groupby('Username')['Upvotes'].count().reset_index()\n",
    "uname_count.rename(columns={'Upvotes':'User_Upvote_Count'},inplace=True)\n",
    "train=pd.merge(train,uname_count,how='left',on='Username')\n",
    "train['User_Upvote_Count'].fillna(0,inplace=True)"
   ]
  },
  {
   "cell_type": "code",
   "execution_count": 26,
   "metadata": {
    "ExecuteTime": {
     "end_time": "2019-08-17T17:50:52.052356Z",
     "start_time": "2019-08-17T17:50:52.023165Z"
    }
   },
   "outputs": [
    {
     "data": {
      "text/html": [
       "<div>\n",
       "<style scoped>\n",
       "    .dataframe tbody tr th:only-of-type {\n",
       "        vertical-align: middle;\n",
       "    }\n",
       "\n",
       "    .dataframe tbody tr th {\n",
       "        vertical-align: top;\n",
       "    }\n",
       "\n",
       "    .dataframe thead th {\n",
       "        text-align: right;\n",
       "    }\n",
       "</style>\n",
       "<table border=\"1\" class=\"dataframe\">\n",
       "  <thead>\n",
       "    <tr style=\"text-align: right;\">\n",
       "      <th></th>\n",
       "      <th>ID</th>\n",
       "      <th>Tag</th>\n",
       "      <th>Reputation</th>\n",
       "      <th>Answers</th>\n",
       "      <th>Username</th>\n",
       "      <th>Views</th>\n",
       "      <th>Upvotes</th>\n",
       "      <th>3</th>\n",
       "      <th>4</th>\n",
       "      <th>5</th>\n",
       "      <th>6</th>\n",
       "      <th>7</th>\n",
       "      <th>8</th>\n",
       "      <th>Reputation_mean</th>\n",
       "      <th>Answers_mean</th>\n",
       "      <th>Views_mean</th>\n",
       "      <th>User_Upvote_Count</th>\n",
       "    </tr>\n",
       "  </thead>\n",
       "  <tbody>\n",
       "    <tr>\n",
       "      <th>0</th>\n",
       "      <td>52664</td>\n",
       "      <td>a</td>\n",
       "      <td>3942.0</td>\n",
       "      <td>2.0</td>\n",
       "      <td>155623</td>\n",
       "      <td>7855.0</td>\n",
       "      <td>42.0</td>\n",
       "      <td>15539364.0</td>\n",
       "      <td>7884.0</td>\n",
       "      <td>3.096441e+07</td>\n",
       "      <td>4.0</td>\n",
       "      <td>15710.0</td>\n",
       "      <td>6.170102e+07</td>\n",
       "      <td>6065.168102</td>\n",
       "      <td>4.259189</td>\n",
       "      <td>31800.916327</td>\n",
       "      <td>19</td>\n",
       "    </tr>\n",
       "    <tr>\n",
       "      <th>1</th>\n",
       "      <td>327662</td>\n",
       "      <td>a</td>\n",
       "      <td>26046.0</td>\n",
       "      <td>12.0</td>\n",
       "      <td>21781</td>\n",
       "      <td>55801.0</td>\n",
       "      <td>1175.0</td>\n",
       "      <td>678394116.0</td>\n",
       "      <td>312552.0</td>\n",
       "      <td>1.453393e+09</td>\n",
       "      <td>144.0</td>\n",
       "      <td>669612.0</td>\n",
       "      <td>3.113752e+09</td>\n",
       "      <td>6065.168102</td>\n",
       "      <td>4.259189</td>\n",
       "      <td>31800.916327</td>\n",
       "      <td>2</td>\n",
       "    </tr>\n",
       "  </tbody>\n",
       "</table>\n",
       "</div>"
      ],
      "text/plain": [
       "       ID Tag  Reputation  Answers  Username    Views  Upvotes            3  \\\n",
       "0   52664   a      3942.0      2.0    155623   7855.0     42.0   15539364.0   \n",
       "1  327662   a     26046.0     12.0     21781  55801.0   1175.0  678394116.0   \n",
       "\n",
       "          4             5      6         7             8  Reputation_mean  \\\n",
       "0    7884.0  3.096441e+07    4.0   15710.0  6.170102e+07      6065.168102   \n",
       "1  312552.0  1.453393e+09  144.0  669612.0  3.113752e+09      6065.168102   \n",
       "\n",
       "   Answers_mean    Views_mean  User_Upvote_Count  \n",
       "0      4.259189  31800.916327                 19  \n",
       "1      4.259189  31800.916327                  2  "
      ]
     },
     "execution_count": 26,
     "metadata": {},
     "output_type": "execute_result"
    }
   ],
   "source": [
    "train.head(2)"
   ]
  },
  {
   "cell_type": "code",
   "execution_count": 27,
   "metadata": {
    "ExecuteTime": {
     "end_time": "2019-08-17T17:51:22.385007Z",
     "start_time": "2019-08-17T17:51:21.539607Z"
    }
   },
   "outputs": [],
   "source": [
    "train['uv']=train['Upvotes']/train['Views']\n",
    "uname_uv=train.groupby('Username')['uv'].mean().reset_index()\n",
    "uname_uv.rename(columns={'uv':'User_Upvote_Views_Mean'},inplace=True)\n",
    "train=pd.merge(train,uname_uv,how='left',on='Username')\n",
    "train['User_Upvote_Views_Mean'].fillna(0,inplace=True)\n",
    "\n",
    "train.drop('uv',axis=1,inplace=True)"
   ]
  },
  {
   "cell_type": "code",
   "execution_count": 28,
   "metadata": {
    "ExecuteTime": {
     "end_time": "2019-08-17T17:51:29.426458Z",
     "start_time": "2019-08-17T17:51:29.394757Z"
    }
   },
   "outputs": [
    {
     "data": {
      "text/html": [
       "<div>\n",
       "<style scoped>\n",
       "    .dataframe tbody tr th:only-of-type {\n",
       "        vertical-align: middle;\n",
       "    }\n",
       "\n",
       "    .dataframe tbody tr th {\n",
       "        vertical-align: top;\n",
       "    }\n",
       "\n",
       "    .dataframe thead th {\n",
       "        text-align: right;\n",
       "    }\n",
       "</style>\n",
       "<table border=\"1\" class=\"dataframe\">\n",
       "  <thead>\n",
       "    <tr style=\"text-align: right;\">\n",
       "      <th></th>\n",
       "      <th>ID</th>\n",
       "      <th>Tag</th>\n",
       "      <th>Reputation</th>\n",
       "      <th>Answers</th>\n",
       "      <th>Username</th>\n",
       "      <th>Views</th>\n",
       "      <th>Upvotes</th>\n",
       "      <th>3</th>\n",
       "      <th>4</th>\n",
       "      <th>5</th>\n",
       "      <th>6</th>\n",
       "      <th>7</th>\n",
       "      <th>8</th>\n",
       "      <th>Reputation_mean</th>\n",
       "      <th>Answers_mean</th>\n",
       "      <th>Views_mean</th>\n",
       "      <th>User_Upvote_Count</th>\n",
       "      <th>User_Upvote_Views_Mean</th>\n",
       "    </tr>\n",
       "  </thead>\n",
       "  <tbody>\n",
       "    <tr>\n",
       "      <th>0</th>\n",
       "      <td>52664</td>\n",
       "      <td>a</td>\n",
       "      <td>3942.0</td>\n",
       "      <td>2.0</td>\n",
       "      <td>155623</td>\n",
       "      <td>7855.0</td>\n",
       "      <td>42.0</td>\n",
       "      <td>15539364.0</td>\n",
       "      <td>7884.0</td>\n",
       "      <td>3.096441e+07</td>\n",
       "      <td>4.0</td>\n",
       "      <td>15710.0</td>\n",
       "      <td>6.170102e+07</td>\n",
       "      <td>6065.168102</td>\n",
       "      <td>4.259189</td>\n",
       "      <td>31800.916327</td>\n",
       "      <td>19</td>\n",
       "      <td>0.008671</td>\n",
       "    </tr>\n",
       "    <tr>\n",
       "      <th>1</th>\n",
       "      <td>327662</td>\n",
       "      <td>a</td>\n",
       "      <td>26046.0</td>\n",
       "      <td>12.0</td>\n",
       "      <td>21781</td>\n",
       "      <td>55801.0</td>\n",
       "      <td>1175.0</td>\n",
       "      <td>678394116.0</td>\n",
       "      <td>312552.0</td>\n",
       "      <td>1.453393e+09</td>\n",
       "      <td>144.0</td>\n",
       "      <td>669612.0</td>\n",
       "      <td>3.113752e+09</td>\n",
       "      <td>6065.168102</td>\n",
       "      <td>4.259189</td>\n",
       "      <td>31800.916327</td>\n",
       "      <td>2</td>\n",
       "      <td>0.021218</td>\n",
       "    </tr>\n",
       "    <tr>\n",
       "      <th>2</th>\n",
       "      <td>468453</td>\n",
       "      <td>c</td>\n",
       "      <td>1358.0</td>\n",
       "      <td>4.0</td>\n",
       "      <td>56177</td>\n",
       "      <td>8067.0</td>\n",
       "      <td>60.0</td>\n",
       "      <td>1844164.0</td>\n",
       "      <td>5432.0</td>\n",
       "      <td>1.095499e+07</td>\n",
       "      <td>16.0</td>\n",
       "      <td>32268.0</td>\n",
       "      <td>6.507649e+07</td>\n",
       "      <td>10566.420657</td>\n",
       "      <td>4.047697</td>\n",
       "      <td>26746.676875</td>\n",
       "      <td>1</td>\n",
       "      <td>0.007438</td>\n",
       "    </tr>\n",
       "    <tr>\n",
       "      <th>3</th>\n",
       "      <td>96996</td>\n",
       "      <td>a</td>\n",
       "      <td>264.0</td>\n",
       "      <td>3.0</td>\n",
       "      <td>168793</td>\n",
       "      <td>27064.0</td>\n",
       "      <td>9.0</td>\n",
       "      <td>69696.0</td>\n",
       "      <td>792.0</td>\n",
       "      <td>7.144896e+06</td>\n",
       "      <td>9.0</td>\n",
       "      <td>81192.0</td>\n",
       "      <td>7.324601e+08</td>\n",
       "      <td>6065.168102</td>\n",
       "      <td>4.259189</td>\n",
       "      <td>31800.916327</td>\n",
       "      <td>3</td>\n",
       "      <td>0.000737</td>\n",
       "    </tr>\n",
       "    <tr>\n",
       "      <th>4</th>\n",
       "      <td>131465</td>\n",
       "      <td>c</td>\n",
       "      <td>4271.0</td>\n",
       "      <td>4.0</td>\n",
       "      <td>112223</td>\n",
       "      <td>13986.0</td>\n",
       "      <td>83.0</td>\n",
       "      <td>18241441.0</td>\n",
       "      <td>17084.0</td>\n",
       "      <td>5.973421e+07</td>\n",
       "      <td>16.0</td>\n",
       "      <td>55944.0</td>\n",
       "      <td>1.956082e+08</td>\n",
       "      <td>10566.420657</td>\n",
       "      <td>4.047697</td>\n",
       "      <td>26746.676875</td>\n",
       "      <td>3</td>\n",
       "      <td>0.005037</td>\n",
       "    </tr>\n",
       "  </tbody>\n",
       "</table>\n",
       "</div>"
      ],
      "text/plain": [
       "       ID Tag  Reputation  Answers  Username    Views  Upvotes            3  \\\n",
       "0   52664   a      3942.0      2.0    155623   7855.0     42.0   15539364.0   \n",
       "1  327662   a     26046.0     12.0     21781  55801.0   1175.0  678394116.0   \n",
       "2  468453   c      1358.0      4.0     56177   8067.0     60.0    1844164.0   \n",
       "3   96996   a       264.0      3.0    168793  27064.0      9.0      69696.0   \n",
       "4  131465   c      4271.0      4.0    112223  13986.0     83.0   18241441.0   \n",
       "\n",
       "          4             5      6         7             8  Reputation_mean  \\\n",
       "0    7884.0  3.096441e+07    4.0   15710.0  6.170102e+07      6065.168102   \n",
       "1  312552.0  1.453393e+09  144.0  669612.0  3.113752e+09      6065.168102   \n",
       "2    5432.0  1.095499e+07   16.0   32268.0  6.507649e+07     10566.420657   \n",
       "3     792.0  7.144896e+06    9.0   81192.0  7.324601e+08      6065.168102   \n",
       "4   17084.0  5.973421e+07   16.0   55944.0  1.956082e+08     10566.420657   \n",
       "\n",
       "   Answers_mean    Views_mean  User_Upvote_Count  User_Upvote_Views_Mean  \n",
       "0      4.259189  31800.916327                 19                0.008671  \n",
       "1      4.259189  31800.916327                  2                0.021218  \n",
       "2      4.047697  26746.676875                  1                0.007438  \n",
       "3      4.259189  31800.916327                  3                0.000737  \n",
       "4      4.047697  26746.676875                  3                0.005037  "
      ]
     },
     "execution_count": 28,
     "metadata": {},
     "output_type": "execute_result"
    }
   ],
   "source": [
    "train.head()"
   ]
  },
  {
   "cell_type": "code",
   "execution_count": 29,
   "metadata": {
    "ExecuteTime": {
     "end_time": "2019-08-17T17:52:17.063666Z",
     "start_time": "2019-08-17T17:52:16.786252Z"
    }
   },
   "outputs": [],
   "source": [
    "#3. One hot encoding of Tag\n",
    "dummies=pd.get_dummies(train['Tag'],drop_first=True)\n",
    "train=pd.concat([train,dummies],axis=1)\n",
    "train.drop('Tag',axis=1,inplace=True)"
   ]
  },
  {
   "cell_type": "code",
   "execution_count": 30,
   "metadata": {
    "ExecuteTime": {
     "end_time": "2019-08-17T17:52:28.594602Z",
     "start_time": "2019-08-17T17:52:28.566464Z"
    }
   },
   "outputs": [
    {
     "data": {
      "text/html": [
       "<div>\n",
       "<style scoped>\n",
       "    .dataframe tbody tr th:only-of-type {\n",
       "        vertical-align: middle;\n",
       "    }\n",
       "\n",
       "    .dataframe tbody tr th {\n",
       "        vertical-align: top;\n",
       "    }\n",
       "\n",
       "    .dataframe thead th {\n",
       "        text-align: right;\n",
       "    }\n",
       "</style>\n",
       "<table border=\"1\" class=\"dataframe\">\n",
       "  <thead>\n",
       "    <tr style=\"text-align: right;\">\n",
       "      <th></th>\n",
       "      <th>ID</th>\n",
       "      <th>Reputation</th>\n",
       "      <th>Answers</th>\n",
       "      <th>Username</th>\n",
       "      <th>Views</th>\n",
       "      <th>Upvotes</th>\n",
       "      <th>3</th>\n",
       "      <th>4</th>\n",
       "      <th>5</th>\n",
       "      <th>6</th>\n",
       "      <th>...</th>\n",
       "      <th>User_Upvote_Views_Mean</th>\n",
       "      <th>c</th>\n",
       "      <th>h</th>\n",
       "      <th>i</th>\n",
       "      <th>j</th>\n",
       "      <th>o</th>\n",
       "      <th>p</th>\n",
       "      <th>r</th>\n",
       "      <th>s</th>\n",
       "      <th>x</th>\n",
       "    </tr>\n",
       "  </thead>\n",
       "  <tbody>\n",
       "    <tr>\n",
       "      <th>0</th>\n",
       "      <td>52664</td>\n",
       "      <td>3942.0</td>\n",
       "      <td>2.0</td>\n",
       "      <td>155623</td>\n",
       "      <td>7855.0</td>\n",
       "      <td>42.0</td>\n",
       "      <td>15539364.0</td>\n",
       "      <td>7884.0</td>\n",
       "      <td>3.096441e+07</td>\n",
       "      <td>4.0</td>\n",
       "      <td>...</td>\n",
       "      <td>0.008671</td>\n",
       "      <td>0</td>\n",
       "      <td>0</td>\n",
       "      <td>0</td>\n",
       "      <td>0</td>\n",
       "      <td>0</td>\n",
       "      <td>0</td>\n",
       "      <td>0</td>\n",
       "      <td>0</td>\n",
       "      <td>0</td>\n",
       "    </tr>\n",
       "    <tr>\n",
       "      <th>1</th>\n",
       "      <td>327662</td>\n",
       "      <td>26046.0</td>\n",
       "      <td>12.0</td>\n",
       "      <td>21781</td>\n",
       "      <td>55801.0</td>\n",
       "      <td>1175.0</td>\n",
       "      <td>678394116.0</td>\n",
       "      <td>312552.0</td>\n",
       "      <td>1.453393e+09</td>\n",
       "      <td>144.0</td>\n",
       "      <td>...</td>\n",
       "      <td>0.021218</td>\n",
       "      <td>0</td>\n",
       "      <td>0</td>\n",
       "      <td>0</td>\n",
       "      <td>0</td>\n",
       "      <td>0</td>\n",
       "      <td>0</td>\n",
       "      <td>0</td>\n",
       "      <td>0</td>\n",
       "      <td>0</td>\n",
       "    </tr>\n",
       "  </tbody>\n",
       "</table>\n",
       "<p>2 rows × 26 columns</p>\n",
       "</div>"
      ],
      "text/plain": [
       "       ID  Reputation  Answers  Username    Views  Upvotes            3  \\\n",
       "0   52664      3942.0      2.0    155623   7855.0     42.0   15539364.0   \n",
       "1  327662     26046.0     12.0     21781  55801.0   1175.0  678394116.0   \n",
       "\n",
       "          4             5      6 ...  User_Upvote_Views_Mean  c  h  i  j  o  \\\n",
       "0    7884.0  3.096441e+07    4.0 ...                0.008671  0  0  0  0  0   \n",
       "1  312552.0  1.453393e+09  144.0 ...                0.021218  0  0  0  0  0   \n",
       "\n",
       "   p  r  s  x  \n",
       "0  0  0  0  0  \n",
       "1  0  0  0  0  \n",
       "\n",
       "[2 rows x 26 columns]"
      ]
     },
     "execution_count": 30,
     "metadata": {},
     "output_type": "execute_result"
    }
   ],
   "source": [
    "train.head(2)"
   ]
  },
  {
   "cell_type": "code",
   "execution_count": 31,
   "metadata": {
    "ExecuteTime": {
     "end_time": "2019-08-17T17:53:30.613155Z",
     "start_time": "2019-08-17T17:53:30.555395Z"
    }
   },
   "outputs": [],
   "source": [
    "X=train.drop('Upvotes',axis=1)\n",
    "y=train['Upvotes']"
   ]
  },
  {
   "cell_type": "code",
   "execution_count": 33,
   "metadata": {
    "ExecuteTime": {
     "end_time": "2019-08-17T17:53:55.280381Z",
     "start_time": "2019-08-17T17:53:55.248231Z"
    }
   },
   "outputs": [
    {
     "data": {
      "text/html": [
       "<div>\n",
       "<style scoped>\n",
       "    .dataframe tbody tr th:only-of-type {\n",
       "        vertical-align: middle;\n",
       "    }\n",
       "\n",
       "    .dataframe tbody tr th {\n",
       "        vertical-align: top;\n",
       "    }\n",
       "\n",
       "    .dataframe thead th {\n",
       "        text-align: right;\n",
       "    }\n",
       "</style>\n",
       "<table border=\"1\" class=\"dataframe\">\n",
       "  <thead>\n",
       "    <tr style=\"text-align: right;\">\n",
       "      <th></th>\n",
       "      <th>ID</th>\n",
       "      <th>Reputation</th>\n",
       "      <th>Answers</th>\n",
       "      <th>Username</th>\n",
       "      <th>Views</th>\n",
       "      <th>3</th>\n",
       "      <th>4</th>\n",
       "      <th>5</th>\n",
       "      <th>6</th>\n",
       "      <th>7</th>\n",
       "      <th>...</th>\n",
       "      <th>User_Upvote_Views_Mean</th>\n",
       "      <th>c</th>\n",
       "      <th>h</th>\n",
       "      <th>i</th>\n",
       "      <th>j</th>\n",
       "      <th>o</th>\n",
       "      <th>p</th>\n",
       "      <th>r</th>\n",
       "      <th>s</th>\n",
       "      <th>x</th>\n",
       "    </tr>\n",
       "  </thead>\n",
       "  <tbody>\n",
       "    <tr>\n",
       "      <th>0</th>\n",
       "      <td>52664</td>\n",
       "      <td>3942.0</td>\n",
       "      <td>2.0</td>\n",
       "      <td>155623</td>\n",
       "      <td>7855.0</td>\n",
       "      <td>15539364.0</td>\n",
       "      <td>7884.0</td>\n",
       "      <td>3.096441e+07</td>\n",
       "      <td>4.0</td>\n",
       "      <td>15710.0</td>\n",
       "      <td>...</td>\n",
       "      <td>0.008671</td>\n",
       "      <td>0</td>\n",
       "      <td>0</td>\n",
       "      <td>0</td>\n",
       "      <td>0</td>\n",
       "      <td>0</td>\n",
       "      <td>0</td>\n",
       "      <td>0</td>\n",
       "      <td>0</td>\n",
       "      <td>0</td>\n",
       "    </tr>\n",
       "    <tr>\n",
       "      <th>1</th>\n",
       "      <td>327662</td>\n",
       "      <td>26046.0</td>\n",
       "      <td>12.0</td>\n",
       "      <td>21781</td>\n",
       "      <td>55801.0</td>\n",
       "      <td>678394116.0</td>\n",
       "      <td>312552.0</td>\n",
       "      <td>1.453393e+09</td>\n",
       "      <td>144.0</td>\n",
       "      <td>669612.0</td>\n",
       "      <td>...</td>\n",
       "      <td>0.021218</td>\n",
       "      <td>0</td>\n",
       "      <td>0</td>\n",
       "      <td>0</td>\n",
       "      <td>0</td>\n",
       "      <td>0</td>\n",
       "      <td>0</td>\n",
       "      <td>0</td>\n",
       "      <td>0</td>\n",
       "      <td>0</td>\n",
       "    </tr>\n",
       "  </tbody>\n",
       "</table>\n",
       "<p>2 rows × 25 columns</p>\n",
       "</div>"
      ],
      "text/plain": [
       "       ID  Reputation  Answers  Username    Views            3         4  \\\n",
       "0   52664      3942.0      2.0    155623   7855.0   15539364.0    7884.0   \n",
       "1  327662     26046.0     12.0     21781  55801.0  678394116.0  312552.0   \n",
       "\n",
       "              5      6         7 ...  User_Upvote_Views_Mean  c  h  i  j  o  \\\n",
       "0  3.096441e+07    4.0   15710.0 ...                0.008671  0  0  0  0  0   \n",
       "1  1.453393e+09  144.0  669612.0 ...                0.021218  0  0  0  0  0   \n",
       "\n",
       "   p  r  s  x  \n",
       "0  0  0  0  0  \n",
       "1  0  0  0  0  \n",
       "\n",
       "[2 rows x 25 columns]"
      ]
     },
     "execution_count": 33,
     "metadata": {},
     "output_type": "execute_result"
    }
   ],
   "source": [
    "X.head(2)"
   ]
  },
  {
   "cell_type": "code",
   "execution_count": 34,
   "metadata": {
    "ExecuteTime": {
     "end_time": "2019-08-17T17:58:53.861991Z",
     "start_time": "2019-08-17T17:55:07.940956Z"
    }
   },
   "outputs": [
    {
     "name": "stdout",
     "output_type": "stream",
     "text": [
      "x , VIF:  9007199254740992.0\n"
     ]
    },
    {
     "name": "stderr",
     "output_type": "stream",
     "text": [
      "C:\\Users\\Shrikant\\Anaconda3\\lib\\site-packages\\statsmodels\\stats\\outliers_influence.py:181: RuntimeWarning: divide by zero encountered in double_scalars\n",
      "  vif = 1. / (1. - r_squared_i)\n"
     ]
    },
    {
     "name": "stdout",
     "output_type": "stream",
     "text": [
      "h , VIF:  inf\n",
      "Views_mean , VIF:  46.86720979955085\n",
      "Reputation_mean , VIF:  17.194673421418152\n",
      "7 , VIF:  9.241982076408794\n"
     ]
    }
   ],
   "source": [
    "#4. Check multicolinearity\n",
    "removed_by_vif=remove_by_vif(X.copy())\n",
    "\n",
    "X=X.drop(removed_by_vif,axis=1)"
   ]
  },
  {
   "cell_type": "code",
   "execution_count": 35,
   "metadata": {
    "ExecuteTime": {
     "end_time": "2019-08-17T18:17:02.667682Z",
     "start_time": "2019-08-17T18:17:02.618532Z"
    }
   },
   "outputs": [],
   "source": [
    "X.drop('ID',axis=1,inplace=True)"
   ]
  },
  {
   "cell_type": "code",
   "execution_count": 36,
   "metadata": {
    "ExecuteTime": {
     "end_time": "2019-08-17T18:17:24.534817Z",
     "start_time": "2019-08-17T18:17:24.378280Z"
    }
   },
   "outputs": [],
   "source": [
    "#train-test split\n",
    "X_train, X_test, y_train, y_test = train_test_split(X, y, test_size=0.2, random_state=60)"
   ]
  },
  {
   "cell_type": "code",
   "execution_count": 37,
   "metadata": {
    "ExecuteTime": {
     "end_time": "2019-08-17T18:17:47.802588Z",
     "start_time": "2019-08-17T18:17:47.673094Z"
    }
   },
   "outputs": [],
   "source": [
    "X_train, X_val, y_train, y_val = train_test_split(X_train, y_train, test_size=0.2, random_state=60)"
   ]
  },
  {
   "cell_type": "code",
   "execution_count": 38,
   "metadata": {
    "ExecuteTime": {
     "end_time": "2019-08-17T18:18:28.280776Z",
     "start_time": "2019-08-17T18:18:27.651640Z"
    }
   },
   "outputs": [
    {
     "name": "stderr",
     "output_type": "stream",
     "text": [
      "C:\\Users\\Shrikant\\Anaconda3\\lib\\site-packages\\sklearn\\preprocessing\\data.py:625: DataConversionWarning: Data with input dtype uint8, int64, float64 were all converted to float64 by StandardScaler.\n",
      "  return self.partial_fit(X, y)\n",
      "C:\\Users\\Shrikant\\Anaconda3\\lib\\site-packages\\sklearn\\base.py:462: DataConversionWarning: Data with input dtype uint8, int64, float64 were all converted to float64 by StandardScaler.\n",
      "  return self.fit(X, **fit_params).transform(X)\n",
      "C:\\Users\\Shrikant\\Anaconda3\\lib\\site-packages\\ipykernel_launcher.py:4: DataConversionWarning: Data with input dtype uint8, int64, float64 were all converted to float64 by StandardScaler.\n",
      "  after removing the cwd from sys.path.\n",
      "C:\\Users\\Shrikant\\Anaconda3\\lib\\site-packages\\ipykernel_launcher.py:5: DataConversionWarning: Data with input dtype uint8, int64, float64 were all converted to float64 by StandardScaler.\n",
      "  \"\"\"\n"
     ]
    }
   ],
   "source": [
    "#scaling\n",
    "std=StandardScaler()\n",
    "X_train_scaled=pd.DataFrame(std.fit_transform(X_train),columns=X_train.columns,index=X_train.index)\n",
    "X_val_scaled=pd.DataFrame(std.transform(X_val),columns=X_val.columns,index=X_val.index)\n",
    "X_test_scaled=pd.DataFrame(std.transform(X_test),columns=X_test.columns,index=X_test.index)"
   ]
  },
  {
   "cell_type": "code",
   "execution_count": 39,
   "metadata": {
    "ExecuteTime": {
     "end_time": "2019-08-17T18:18:52.181552Z",
     "start_time": "2019-08-17T18:18:52.176088Z"
    }
   },
   "outputs": [],
   "source": [
    "scoring='neg_mean_squared_error'"
   ]
  },
  {
   "cell_type": "markdown",
   "metadata": {},
   "source": [
    "### Linear Regression"
   ]
  },
  {
   "cell_type": "code",
   "execution_count": 40,
   "metadata": {
    "ExecuteTime": {
     "end_time": "2019-08-17T18:19:19.347348Z",
     "start_time": "2019-08-17T18:19:07.571559Z"
    }
   },
   "outputs": [
    {
     "name": "stdout",
     "output_type": "stream",
     "text": [
      "RMSE:  1382.585517606471\n"
     ]
    }
   ],
   "source": [
    "lr=LinearRegression()\n",
    "scores=cross_val_score(lr,X_train_scaled,y_train,n_jobs=-1,cv=5,scoring=scoring)\n",
    "print('RMSE: ',np.sqrt(-scores).mean())"
   ]
  },
  {
   "cell_type": "code",
   "execution_count": 41,
   "metadata": {
    "ExecuteTime": {
     "end_time": "2019-08-17T18:19:40.516794Z",
     "start_time": "2019-08-17T18:19:40.199647Z"
    }
   },
   "outputs": [
    {
     "data": {
      "text/plain": [
       "LinearRegression(copy_X=True, fit_intercept=True, n_jobs=None,\n",
       "         normalize=False)"
      ]
     },
     "execution_count": 41,
     "metadata": {},
     "output_type": "execute_result"
    }
   ],
   "source": [
    "lr.fit(X_train_scaled,y_train)"
   ]
  },
  {
   "cell_type": "code",
   "execution_count": 42,
   "metadata": {
    "ExecuteTime": {
     "end_time": "2019-08-17T18:20:43.461299Z",
     "start_time": "2019-08-17T18:20:43.422621Z"
    }
   },
   "outputs": [
    {
     "name": "stdout",
     "output_type": "stream",
     "text": [
      "Train RMSE: 1240.5516265519736\n",
      "Test RMSE: 788.5062304987126\n"
     ]
    }
   ],
   "source": [
    "# Result on test\n",
    "y_train_pred=lr.predict(X_train_scaled)\n",
    "y_val_pred=lr.predict(X_val_scaled)\n",
    "y_pred_lr=np.append(y_train_pred,y_val_pred)\n",
    "print('Train RMSE:',np.sqrt(mean_squared_error(y_train,y_train_pred)))\n",
    "print('Test RMSE:',np.sqrt(mean_squared_error(y_val,y_val_pred)))"
   ]
  },
  {
   "cell_type": "code",
   "execution_count": 43,
   "metadata": {
    "ExecuteTime": {
     "end_time": "2019-08-17T18:21:50.570288Z",
     "start_time": "2019-08-17T18:21:20.411393Z"
    }
   },
   "outputs": [
    {
     "name": "stdout",
     "output_type": "stream",
     "text": [
      "Train RMSE: 607.939006737356\n",
      "Test RMSE: 898.3695564791359\n"
     ]
    }
   ],
   "source": [
    "# Baseline Model\n",
    "xgb=XGBRegressor(random_state=50)\n",
    "xgb.fit(X_train_scaled,y_train)\n",
    "y_train_pred=xgb.predict(X_train_scaled)\n",
    "y_val_pred=xgb.predict(X_val_scaled)\n",
    "print('Train RMSE:',np.sqrt(mean_squared_error(y_train,y_train_pred)))\n",
    "print('Test RMSE:',np.sqrt(mean_squared_error(y_val,y_val_pred)))"
   ]
  },
  {
   "cell_type": "code",
   "execution_count": 44,
   "metadata": {
    "ExecuteTime": {
     "end_time": "2019-08-17T18:39:02.546177Z",
     "start_time": "2019-08-17T18:21:56.954114Z"
    }
   },
   "outputs": [
    {
     "data": {
      "text/plain": [
       "BayesSearchCV(cv=3, error_score='raise',\n",
       "       estimator=XGBRegressor(base_score=0.5, booster='gbtree', colsample_bylevel=1,\n",
       "       colsample_bytree=1, gamma=0, learning_rate=0.1, max_delta_step=0,\n",
       "       max_depth=3, min_child_weight=1, missing=None, n_estimators=100,\n",
       "       n_jobs=-1, nthread=None, objective='reg:linear', random_state=0,\n",
       "       reg_alpha=0, reg_lambda=1, scale_pos_weight=1, seed=None,\n",
       "       silent=True, subsample=1, tree_method='approx'),\n",
       "       fit_params=None, iid=True, n_iter=50, n_jobs=-1, n_points=1,\n",
       "       optimizer_kwargs=None, pre_dispatch='2*n_jobs', random_state=42,\n",
       "       refit=True, return_train_score=False,\n",
       "       scoring='neg_mean_squared_error',\n",
       "       search_spaces={'learning_rate': (0.01, 1.0, 'log-uniform'), 'min_child_weight': (0, 20), 'max_depth': (3, 5), 'subsample': (0.1, 1.0, 'uniform'), 'colsample_bytree': (0.1, 1.0, 'uniform'), 'colsample_bylevel': (0.1, 1.0, 'uniform'), 'reg_lambda': (0.001, 1000, 'log-uniform'), 'reg_alpha': (0.001, 1.0, 'log-uniform'), 'base_score': (0.0001, 0.5, 'log-uniform')},\n",
       "       verbose=0)"
      ]
     },
     "execution_count": 44,
     "metadata": {},
     "output_type": "execute_result"
    }
   ],
   "source": [
    "# Bayesian Optimization\n",
    "opt = BayesSearchCV(\n",
    "    estimator = XGBRegressor(\n",
    "        n_jobs = -1,\n",
    "        tree_method='approx'\n",
    "    ),\n",
    "    search_spaces = {\n",
    "        'learning_rate': (0.01, 1.0, 'log-uniform'),\n",
    "        'min_child_weight': (0, 20),\n",
    "        'max_depth': (3, 5),\n",
    "#         'max_delta_step': (0, 20),\n",
    "        'subsample': (0.1, 1.0, 'uniform'),\n",
    "        'colsample_bytree': (0.1, 1.0, 'uniform'),\n",
    "        'colsample_bylevel': (0.1, 1.0, 'uniform'),\n",
    "        'reg_lambda': (1e-3, 1000, 'log-uniform'),\n",
    "        'reg_alpha': (1e-3, 1.0, 'log-uniform'),\n",
    "#         'gamma': (1e-9, 0.5, 'log-uniform'),\n",
    "        'base_score':((1e-4, 0.5, 'log-uniform'))\n",
    "    },    \n",
    "    scoring = scoring,\n",
    "    cv =3,\n",
    "    n_jobs = -1,\n",
    "    refit = True,\n",
    "    random_state = 42\n",
    ")\n",
    "\n",
    "opt.fit(X_train_scaled,y_train)"
   ]
  },
  {
   "cell_type": "code",
   "execution_count": 45,
   "metadata": {
    "ExecuteTime": {
     "end_time": "2019-08-17T18:39:02.557805Z",
     "start_time": "2019-08-17T18:39:02.549184Z"
    }
   },
   "outputs": [
    {
     "data": {
      "text/plain": [
       "{'base_score': 0.0048498902366922135,\n",
       " 'colsample_bylevel': 0.6173216144659593,\n",
       " 'colsample_bytree': 0.8331307038520519,\n",
       " 'learning_rate': 0.10768174522203376,\n",
       " 'max_depth': 4,\n",
       " 'min_child_weight': 1,\n",
       " 'reg_alpha': 0.015083772848150384,\n",
       " 'reg_lambda': 0.002735789383183587,\n",
       " 'subsample': 0.3247029778080074}"
      ]
     },
     "execution_count": 45,
     "metadata": {},
     "output_type": "execute_result"
    }
   ],
   "source": [
    "\n",
    "\n",
    "opt.best_params_\n",
    "\n"
   ]
  },
  {
   "cell_type": "code",
   "execution_count": 46,
   "metadata": {
    "ExecuteTime": {
     "end_time": "2019-08-17T18:39:25.994617Z",
     "start_time": "2019-08-17T18:39:02.562565Z"
    }
   },
   "outputs": [
    {
     "name": "stdout",
     "output_type": "stream",
     "text": [
      "Train RMSE: 594.5644568813723\n",
      "Test RMSE: 894.8474841036207\n"
     ]
    }
   ],
   "source": [
    "#Tuned Model\n",
    "xgb=XGBRegressor(random_state=51,n_jobs=-1,**opt.best_params_)\n",
    "xgb.fit(X_train_scaled,y_train)\n",
    "y_train_pred=xgb.predict(X_train_scaled)\n",
    "y_val_pred=xgb.predict(X_val_scaled)\n",
    "y_pred_xgb=np.append(y_train_pred,y_val_pred)\n",
    "print('Train RMSE:',np.sqrt(mean_squared_error(y_train,y_train_pred)))\n",
    "print('Test RMSE:',np.sqrt(mean_squared_error(y_val,y_val_pred)))"
   ]
  },
  {
   "cell_type": "code",
   "execution_count": 47,
   "metadata": {
    "ExecuteTime": {
     "end_time": "2019-08-17T18:47:39.900675Z",
     "start_time": "2019-08-17T18:47:17.709898Z"
    }
   },
   "outputs": [
    {
     "name": "stdout",
     "output_type": "stream",
     "text": [
      "RMSE:  1167.1075394509069\n"
     ]
    }
   ],
   "source": [
    "#cross-val-score\n",
    "xgb=XGBRegressor(random_state=50,**opt.best_params_)\n",
    "scores=cross_val_score(xgb,X_train_scaled,y_train,n_jobs=-1,cv=3,scoring=scoring)\n",
    "print('RMSE: ',np.sqrt(-scores).mean())"
   ]
  },
  {
   "cell_type": "code",
   "execution_count": 48,
   "metadata": {
    "ExecuteTime": {
     "end_time": "2019-08-17T18:48:07.369663Z",
     "start_time": "2019-08-17T18:47:43.596175Z"
    }
   },
   "outputs": [
    {
     "data": {
      "text/html": [
       "<div>\n",
       "<style scoped>\n",
       "    .dataframe tbody tr th:only-of-type {\n",
       "        vertical-align: middle;\n",
       "    }\n",
       "\n",
       "    .dataframe tbody tr th {\n",
       "        vertical-align: top;\n",
       "    }\n",
       "\n",
       "    .dataframe thead th {\n",
       "        text-align: right;\n",
       "    }\n",
       "</style>\n",
       "<table border=\"1\" class=\"dataframe\">\n",
       "  <thead>\n",
       "    <tr style=\"text-align: right;\">\n",
       "      <th></th>\n",
       "      <th>0</th>\n",
       "    </tr>\n",
       "  </thead>\n",
       "  <tbody>\n",
       "    <tr>\n",
       "      <th>5</th>\n",
       "      <td>0.235125</td>\n",
       "    </tr>\n",
       "    <tr>\n",
       "      <th>Reputation</th>\n",
       "      <td>0.156430</td>\n",
       "    </tr>\n",
       "    <tr>\n",
       "      <th>Views</th>\n",
       "      <td>0.138196</td>\n",
       "    </tr>\n",
       "    <tr>\n",
       "      <th>4</th>\n",
       "      <td>0.129559</td>\n",
       "    </tr>\n",
       "    <tr>\n",
       "      <th>Answers</th>\n",
       "      <td>0.104607</td>\n",
       "    </tr>\n",
       "  </tbody>\n",
       "</table>\n",
       "</div>"
      ],
      "text/plain": [
       "                   0\n",
       "5           0.235125\n",
       "Reputation  0.156430\n",
       "Views       0.138196\n",
       "4           0.129559\n",
       "Answers     0.104607"
      ]
     },
     "execution_count": 48,
     "metadata": {},
     "output_type": "execute_result"
    }
   ],
   "source": [
    "#Feature importance\n",
    "xgb=XGBRegressor(random_state=51,n_jobs=-1,**opt.best_params_)\n",
    "xgb.fit(X_train_scaled,y_train)\n",
    "pd.DataFrame(xgb.feature_importances_,index=X_train.columns).sort_values(0,ascending=False).head()"
   ]
  },
  {
   "cell_type": "code",
   "execution_count": 49,
   "metadata": {
    "ExecuteTime": {
     "end_time": "2019-08-17T18:49:03.269939Z",
     "start_time": "2019-08-17T18:48:16.450692Z"
    }
   },
   "outputs": [
    {
     "data": {
      "text/plain": [
       "<matplotlib.legend.Legend at 0x22a0786e6d8>"
      ]
     },
     "execution_count": 49,
     "metadata": {},
     "output_type": "execute_result"
    },
    {
     "data": {
      "image/png": "[encoded data removed]",
      "text/plain": [
       "<Figure size 864x576 with 1 Axes>"
      ]
     },
     "metadata": {
      "needs_background": "light"
     },
     "output_type": "display_data"
    }
   ],
   "source": [
    "xgb=XGBRegressor(random_state=51,**opt.best_params_)\n",
    "lc=learning_curve(xgb,X_train_scaled,y_train,cv=3,n_jobs=-1,scoring=scoring)\n",
    "size=lc[0]\n",
    "train_score=[-lc[1][i].mean() for i in range (0,5)]\n",
    "test_score=[-lc[2][i].mean() for i in range (0,5)]\n",
    "fig=plt.figure(figsize=(12,8))\n",
    "plt.plot(size,np.sqrt(train_score),label='Train')\n",
    "plt.plot(size,np.sqrt(test_score),label=\"Test\")\n",
    "plt.legend()\n",
    "#Overfit"
   ]
  },
  {
   "cell_type": "code",
   "execution_count": 50,
   "metadata": {
    "ExecuteTime": {
     "end_time": "2019-08-17T18:49:03.284980Z",
     "start_time": "2019-08-17T18:49:03.273120Z"
    }
   },
   "outputs": [],
   "source": [
    "y_pred_stack=(y_pred_lr+y_pred_xgb)/2"
   ]
  },
  {
   "cell_type": "code",
   "execution_count": 51,
   "metadata": {
    "ExecuteTime": {
     "end_time": "2019-08-17T18:49:03.338771Z",
     "start_time": "2019-08-17T18:49:03.286869Z"
    }
   },
   "outputs": [
    {
     "name": "stdout",
     "output_type": "stream",
     "text": [
      "Train RMSE: 827.521955841061\n",
      "Test RMSE: 818.5357551636881\n"
     ]
    }
   ],
   "source": [
    "y_train_pred=y_pred_stack[:len(y_train)]\n",
    "y_val_pred=y_pred_stack[len(y_train):]\n",
    "print('Train RMSE:',np.sqrt(mean_squared_error(y_train,y_train_pred)))\n",
    "print('Test RMSE:',np.sqrt(mean_squared_error(y_val,y_val_pred)))"
   ]
  },
  {
   "cell_type": "code",
   "execution_count": 52,
   "metadata": {
    "ExecuteTime": {
     "end_time": "2019-08-17T18:49:03.430062Z",
     "start_time": "2019-08-17T18:49:03.348893Z"
    }
   },
   "outputs": [],
   "source": [
    "X_train_1=pd.concat([X_train_scaled,X_val_scaled])\n",
    "y_train_1=pd.concat([y_train,y_val])"
   ]
  },
  {
   "cell_type": "code",
   "execution_count": 53,
   "metadata": {
    "ExecuteTime": {
     "end_time": "2019-08-17T18:49:16.877770Z",
     "start_time": "2019-08-17T18:49:16.496027Z"
    }
   },
   "outputs": [],
   "source": [
    "lr.fit(X_train_1,y_train_1)\n",
    "y_pred_lr=lr.predict(X_test_scaled)"
   ]
  },
  {
   "cell_type": "code",
   "execution_count": 54,
   "metadata": {
    "ExecuteTime": {
     "end_time": "2019-08-17T18:49:58.776099Z",
     "start_time": "2019-08-17T18:49:28.039067Z"
    }
   },
   "outputs": [
    {
     "name": "stdout",
     "output_type": "stream",
     "text": [
      "Test RMSE: 1171.017440694157\n"
     ]
    }
   ],
   "source": [
    "# XGB\n",
    "xgb=XGBRegressor(random_state=51,n_jobs=-1,**opt.best_params_)\n",
    "xgb.fit(X_train_1,y_train_1)\n",
    "y_pred_xgb=xgb.predict(X_test_scaled)\n",
    "print('Test RMSE:',np.sqrt(mean_squared_error(y_test,y_pred_xgb)))"
   ]
  },
  {
   "cell_type": "code",
   "execution_count": 55,
   "metadata": {
    "ExecuteTime": {
     "end_time": "2019-08-17T18:49:58.794131Z",
     "start_time": "2019-08-17T18:49:58.778581Z"
    }
   },
   "outputs": [
    {
     "name": "stdout",
     "output_type": "stream",
     "text": [
      "Test RMSE: 934.8365735303153\n"
     ]
    }
   ],
   "source": [
    "#Stack\n",
    "y_pred_stack=(y_pred_lr+y_pred_xgb)/2\n",
    "print('Test RMSE:',np.sqrt(mean_squared_error(y_test,y_pred_stack)))"
   ]
  },
  {
   "cell_type": "code",
   "execution_count": 56,
   "metadata": {
    "ExecuteTime": {
     "end_time": "2019-08-17T18:50:07.869146Z",
     "start_time": "2019-08-17T18:50:07.218110Z"
    }
   },
   "outputs": [],
   "source": [
    "test=pd.read_csv('test_8i3B3FC.csv')"
   ]
  },
  {
   "cell_type": "code",
   "execution_count": 57,
   "metadata": {
    "ExecuteTime": {
     "end_time": "2019-08-17T18:50:33.049649Z",
     "start_time": "2019-08-17T18:50:31.594794Z"
    }
   },
   "outputs": [
    {
     "name": "stderr",
     "output_type": "stream",
     "text": [
      "C:\\Users\\Shrikant\\Anaconda3\\lib\\site-packages\\sklearn\\preprocessing\\data.py:625: DataConversionWarning: Data with input dtype uint8, int64, float64 were all converted to float64 by StandardScaler.\n",
      "  return self.partial_fit(X, y)\n",
      "C:\\Users\\Shrikant\\Anaconda3\\lib\\site-packages\\sklearn\\base.py:462: DataConversionWarning: Data with input dtype uint8, int64, float64 were all converted to float64 by StandardScaler.\n",
      "  return self.fit(X, **fit_params).transform(X)\n",
      "C:\\Users\\Shrikant\\Anaconda3\\lib\\site-packages\\ipykernel_launcher.py:31: DataConversionWarning: Data with input dtype uint8, int64, float64 were all converted to float64 by StandardScaler.\n"
     ]
    }
   ],
   "source": [
    "# Data preparation\n",
    "X_scaled=pd.DataFrame(std.fit_transform(X),columns=X.columns,index=X.index)\n",
    "\n",
    "# Polynomial Features\n",
    "tmp=pd.DataFrame(poly.transform(test[num_features])).loc[:,len(num_features):]\n",
    "test=test.join(tmp)\n",
    "\n",
    "#Tag wise mean of num features\n",
    "tmp=test.groupby('Tag')[num_features].mean()\n",
    "tmp.columns=tmp.columns+'_mean'\n",
    "test=pd.merge(test,tmp.reset_index(),how='left',on='Tag')\n",
    "\n",
    "# Userwise upvotes count\n",
    "test=pd.merge(test,uname_count,how='left',on='Username')\n",
    "test['User_Upvote_Count'].fillna(0,inplace=True)\n",
    "\n",
    "# Userwise upvotes,views mean\n",
    "test=pd.merge(test,uname_uv,how='left',on='Username')\n",
    "test['User_Upvote_Views_Mean'].fillna(0,inplace=True)\n",
    "\n",
    "# One hot encoding of Tag\n",
    "dummies=pd.get_dummies(test['Tag'],drop_first=True)\n",
    "test=pd.concat([test,dummies],axis=1)\n",
    "test.drop('Tag',axis=1,inplace=True)\n",
    "\n",
    "# remove columns with high vif\n",
    "test_ids=test['ID']\n",
    "test.drop(['ID']+removed_by_vif,axis=1,inplace=True)\n",
    "\n",
    "#scaling\n",
    "test_scaled=pd.DataFrame(std.transform(test),columns=test.columns)"
   ]
  },
  {
   "cell_type": "code",
   "execution_count": 58,
   "metadata": {
    "ExecuteTime": {
     "end_time": "2019-08-17T18:51:23.980277Z",
     "start_time": "2019-08-17T18:50:45.363885Z"
    }
   },
   "outputs": [
    {
     "data": {
      "text/plain": [
       "XGBRegressor(base_score=0.0048498902366922135, booster='gbtree',\n",
       "       colsample_bylevel=0.6173216144659593,\n",
       "       colsample_bytree=0.8331307038520519, gamma=0,\n",
       "       learning_rate=0.10768174522203376, max_delta_step=0, max_depth=4,\n",
       "       min_child_weight=1, missing=None, n_estimators=100, n_jobs=-1,\n",
       "       nthread=None, objective='reg:linear', random_state=51,\n",
       "       reg_alpha=0.015083772848150384, reg_lambda=0.002735789383183587,\n",
       "       scale_pos_weight=1, seed=None, silent=True,\n",
       "       subsample=0.3247029778080074)"
      ]
     },
     "execution_count": 58,
     "metadata": {},
     "output_type": "execute_result"
    }
   ],
   "source": [
    "lr=LinearRegression()\n",
    "xgb=XGBRegressor(random_state=51,n_jobs=-1,**opt.best_params_)\n",
    "std=StandardScaler()\n",
    "lr.fit(X_scaled,y)\n",
    "xgb.fit(X_scaled,y)"
   ]
  },
  {
   "cell_type": "code",
   "execution_count": 59,
   "metadata": {
    "ExecuteTime": {
     "end_time": "2019-08-17T18:51:24.386208Z",
     "start_time": "2019-08-17T18:51:23.983299Z"
    }
   },
   "outputs": [],
   "source": [
    "y_pred_lr=lr.predict(test_scaled)\n",
    "y_pred_xgb=xgb.predict(test_scaled)\n",
    "y_pred_stacked=(y_pred_lr+y_pred_xgb)/2"
   ]
  },
  {
   "cell_type": "code",
   "execution_count": 60,
   "metadata": {
    "ExecuteTime": {
     "end_time": "2019-08-17T18:51:36.678813Z",
     "start_time": "2019-08-17T18:51:36.559394Z"
    }
   },
   "outputs": [],
   "source": [
    "submission=pd.DataFrame(index=test_ids)\n",
    "submission['Upvotes']=list(map(int,y_pred_stacked))"
   ]
  },
  {
   "cell_type": "code",
   "execution_count": 61,
   "metadata": {
    "ExecuteTime": {
     "end_time": "2019-08-17T18:52:53.657280Z",
     "start_time": "2019-08-17T18:52:53.206460Z"
    }
   },
   "outputs": [],
   "source": [
    "submission.to_csv('Submission.csv')"
   ]
  },
  {
   "cell_type": "markdown",
   "metadata": {},
   "source": [
    "### Approach 2"
   ]
  },
  {
   "cell_type": "code",
   "execution_count": 9,
   "metadata": {
    "ExecuteTime": {
     "end_time": "2019-08-17T08:39:32.651368Z",
     "start_time": "2019-08-17T08:39:32.600247Z"
    }
   },
   "outputs": [],
   "source": [
    "train = train.drop(train[train.Views > 3000000].index) # remove the rows where View greater than 3000000\n"
   ]
  },
  {
   "cell_type": "code",
   "execution_count": 10,
   "metadata": {
    "ExecuteTime": {
     "end_time": "2019-08-17T08:40:20.668117Z",
     "start_time": "2019-08-17T08:40:20.572375Z"
    }
   },
   "outputs": [],
   "source": [
    "labelencoder_X = LabelEncoder()\n",
    "train['Tag'] = labelencoder_X.fit_transform(train['Tag'])\n",
    "train.drop(['ID','Username'], axis=1,inplace =True)\n",
    "target = train['Upvotes']"
   ]
  },
  {
   "cell_type": "code",
   "execution_count": 12,
   "metadata": {
    "ExecuteTime": {
     "end_time": "2019-08-17T08:45:48.831946Z",
     "start_time": "2019-08-17T08:45:48.678947Z"
    }
   },
   "outputs": [],
   "source": [
    "from sklearn.preprocessing import Binarizer\n",
    "bn = Binarizer(threshold=7)\n",
    "pd_watched = bn.transform([train['Answers']])[0]\n",
    "train['pd_watched'] = pd_watched"
   ]
  },
  {
   "cell_type": "code",
   "execution_count": 18,
   "metadata": {
    "ExecuteTime": {
     "end_time": "2019-08-17T08:48:54.695873Z",
     "start_time": "2019-08-17T08:48:54.690855Z"
    }
   },
   "outputs": [],
   "source": [
    "feature_names = [x for x in train.columns if x not in ['Upvotes']]"
   ]
  },
  {
   "cell_type": "code",
   "execution_count": 19,
   "metadata": {
    "ExecuteTime": {
     "end_time": "2019-08-17T08:49:00.774420Z",
     "start_time": "2019-08-17T08:49:00.770092Z"
    }
   },
   "outputs": [
    {
     "data": {
      "text/plain": [
       "['Tag', 'Reputation', 'Answers', 'Views', 'pd_watched']"
      ]
     },
     "execution_count": 19,
     "metadata": {},
     "output_type": "execute_result"
    }
   ],
   "source": [
    "feature_names"
   ]
  },
  {
   "cell_type": "code",
   "execution_count": 20,
   "metadata": {
    "ExecuteTime": {
     "end_time": "2019-08-17T08:49:03.967356Z",
     "start_time": "2019-08-17T08:49:03.950784Z"
    }
   },
   "outputs": [
    {
     "data": {
      "text/html": [
       "<div>\n",
       "<style scoped>\n",
       "    .dataframe tbody tr th:only-of-type {\n",
       "        vertical-align: middle;\n",
       "    }\n",
       "\n",
       "    .dataframe tbody tr th {\n",
       "        vertical-align: top;\n",
       "    }\n",
       "\n",
       "    .dataframe thead th {\n",
       "        text-align: right;\n",
       "    }\n",
       "</style>\n",
       "<table border=\"1\" class=\"dataframe\">\n",
       "  <thead>\n",
       "    <tr style=\"text-align: right;\">\n",
       "      <th></th>\n",
       "      <th>Tag</th>\n",
       "      <th>Reputation</th>\n",
       "      <th>Answers</th>\n",
       "      <th>Views</th>\n",
       "      <th>Upvotes</th>\n",
       "      <th>pd_watched</th>\n",
       "    </tr>\n",
       "  </thead>\n",
       "  <tbody>\n",
       "    <tr>\n",
       "      <th>0</th>\n",
       "      <td>0</td>\n",
       "      <td>3942.0</td>\n",
       "      <td>2.0</td>\n",
       "      <td>7855.0</td>\n",
       "      <td>42.0</td>\n",
       "      <td>0.0</td>\n",
       "    </tr>\n",
       "    <tr>\n",
       "      <th>1</th>\n",
       "      <td>0</td>\n",
       "      <td>26046.0</td>\n",
       "      <td>12.0</td>\n",
       "      <td>55801.0</td>\n",
       "      <td>1175.0</td>\n",
       "      <td>1.0</td>\n",
       "    </tr>\n",
       "    <tr>\n",
       "      <th>2</th>\n",
       "      <td>1</td>\n",
       "      <td>1358.0</td>\n",
       "      <td>4.0</td>\n",
       "      <td>8067.0</td>\n",
       "      <td>60.0</td>\n",
       "      <td>0.0</td>\n",
       "    </tr>\n",
       "    <tr>\n",
       "      <th>3</th>\n",
       "      <td>0</td>\n",
       "      <td>264.0</td>\n",
       "      <td>3.0</td>\n",
       "      <td>27064.0</td>\n",
       "      <td>9.0</td>\n",
       "      <td>0.0</td>\n",
       "    </tr>\n",
       "    <tr>\n",
       "      <th>4</th>\n",
       "      <td>1</td>\n",
       "      <td>4271.0</td>\n",
       "      <td>4.0</td>\n",
       "      <td>13986.0</td>\n",
       "      <td>83.0</td>\n",
       "      <td>0.0</td>\n",
       "    </tr>\n",
       "  </tbody>\n",
       "</table>\n",
       "</div>"
      ],
      "text/plain": [
       "   Tag  Reputation  Answers    Views  Upvotes  pd_watched\n",
       "0    0      3942.0      2.0   7855.0     42.0         0.0\n",
       "1    0     26046.0     12.0  55801.0   1175.0         1.0\n",
       "2    1      1358.0      4.0   8067.0     60.0         0.0\n",
       "3    0       264.0      3.0  27064.0      9.0         0.0\n",
       "4    1      4271.0      4.0  13986.0     83.0         0.0"
      ]
     },
     "execution_count": 20,
     "metadata": {},
     "output_type": "execute_result"
    }
   ],
   "source": [
    "train.head()"
   ]
  },
  {
   "cell_type": "code",
   "execution_count": 21,
   "metadata": {
    "ExecuteTime": {
     "end_time": "2019-08-17T08:49:09.426912Z",
     "start_time": "2019-08-17T08:49:08.923656Z"
    }
   },
   "outputs": [
    {
     "name": "stderr",
     "output_type": "stream",
     "text": [
      "C:\\Users\\Shrikant\\Anaconda3\\lib\\site-packages\\sklearn\\preprocessing\\data.py:625: DataConversionWarning: Data with input dtype int32, float64 were all converted to float64 by StandardScaler.\n",
      "  return self.partial_fit(X, y)\n",
      "C:\\Users\\Shrikant\\Anaconda3\\lib\\site-packages\\sklearn\\base.py:462: DataConversionWarning: Data with input dtype int32, float64 were all converted to float64 by StandardScaler.\n",
      "  return self.fit(X, **fit_params).transform(X)\n",
      "C:\\Users\\Shrikant\\Anaconda3\\lib\\site-packages\\ipykernel_launcher.py:4: DataConversionWarning: Data with input dtype int32, float64 were all converted to float64 by StandardScaler.\n",
      "  after removing the cwd from sys.path.\n"
     ]
    }
   ],
   "source": [
    "x_train, x_val, y_train, y_val = train_test_split(train[feature_names], target,test_size = 0.22,random_state =205)\n",
    "sc_X = StandardScaler()\n",
    "x_train = sc_X.fit_transform(x_train)\n",
    "x_val = sc_X.transform(x_val)"
   ]
  },
  {
   "cell_type": "code",
   "execution_count": 22,
   "metadata": {
    "ExecuteTime": {
     "end_time": "2019-08-17T08:50:14.767143Z",
     "start_time": "2019-08-17T08:50:10.858888Z"
    }
   },
   "outputs": [
    {
     "data": {
      "text/plain": [
       "LassoLars(alpha=0.021, copy_X=True, eps=2.220446049250313e-16,\n",
       "     fit_intercept=True, fit_path=True, max_iter=150, normalize=True,\n",
       "     positive=False, precompute='auto', verbose=False)"
      ]
     },
     "execution_count": 22,
     "metadata": {},
     "output_type": "execute_result"
    }
   ],
   "source": [
    "poly_reg = PolynomialFeatures(degree = 4,interaction_only=False, include_bias=True)\n",
    "X_poly = poly_reg.fit_transform(x_train)\n",
    "poly_reg.fit(x_train, y_train)\n",
    "lin_reg_1 = linear_model.LassoLars(alpha=0.021,max_iter=150)\n",
    "lin_reg_1.fit(X_poly, y_train)\n"
   ]
  },
  {
   "cell_type": "code",
   "execution_count": 23,
   "metadata": {
    "ExecuteTime": {
     "end_time": "2019-08-17T08:51:46.452130Z",
     "start_time": "2019-08-17T08:51:45.741515Z"
    }
   },
   "outputs": [
    {
     "name": "stdout",
     "output_type": "stream",
     "text": [
      "0.9034378793327854\n"
     ]
    }
   ],
   "source": [
    "# predicitng \n",
    "pred_val = lin_reg_1.predict(poly_reg.fit_transform(x_val))\n",
    "\n",
    "print(r2_score(y_val, pred_val))"
   ]
  },
  {
   "cell_type": "code",
   "execution_count": 24,
   "metadata": {
    "ExecuteTime": {
     "end_time": "2019-08-17T08:52:14.205298Z",
     "start_time": "2019-08-17T08:52:13.928785Z"
    }
   },
   "outputs": [],
   "source": [
    "# testing\n",
    "\n",
    "test = pd.read_csv('test_8i3B3FC.csv')\n",
    "ids = test['ID']\n",
    "test.drop(['ID','Username'], axis=1,inplace =True)"
   ]
  },
  {
   "cell_type": "code",
   "execution_count": 25,
   "metadata": {
    "ExecuteTime": {
     "end_time": "2019-08-17T08:52:35.177025Z",
     "start_time": "2019-08-17T08:52:35.072831Z"
    }
   },
   "outputs": [],
   "source": [
    "labelencoder_X = LabelEncoder()\n",
    "test['Tag'] = labelencoder_X.fit_transform(test['Tag'])\n",
    "\n",
    "from sklearn.preprocessing import Binarizer\n",
    "bn = Binarizer(threshold=7)\n",
    "pd_watched = bn.transform([test['Answers']])[0]\n",
    "test['pd_watched'] = pd_watched"
   ]
  },
  {
   "cell_type": "code",
   "execution_count": 26,
   "metadata": {
    "ExecuteTime": {
     "end_time": "2019-08-17T08:52:46.292020Z",
     "start_time": "2019-08-17T08:52:46.202467Z"
    }
   },
   "outputs": [
    {
     "name": "stderr",
     "output_type": "stream",
     "text": [
      "C:\\Users\\Shrikant\\Anaconda3\\lib\\site-packages\\sklearn\\preprocessing\\data.py:625: DataConversionWarning: Data with input dtype int32, float64 were all converted to float64 by StandardScaler.\n",
      "  return self.partial_fit(X, y)\n",
      "C:\\Users\\Shrikant\\Anaconda3\\lib\\site-packages\\sklearn\\base.py:462: DataConversionWarning: Data with input dtype int32, float64 were all converted to float64 by StandardScaler.\n",
      "  return self.fit(X, **fit_params).transform(X)\n"
     ]
    }
   ],
   "source": [
    "test = sc_X.fit_transform(test)"
   ]
  },
  {
   "cell_type": "code",
   "execution_count": 27,
   "metadata": {
    "ExecuteTime": {
     "end_time": "2019-08-17T08:53:09.406628Z",
     "start_time": "2019-08-17T08:53:07.927494Z"
    }
   },
   "outputs": [],
   "source": [
    "pred_test = lin_reg_1.predict(poly_reg.fit_transform(test))\n",
    "pred_test=abs(pred_test)"
   ]
  },
  {
   "cell_type": "code",
   "execution_count": 28,
   "metadata": {
    "ExecuteTime": {
     "end_time": "2019-08-17T08:54:21.403286Z",
     "start_time": "2019-08-17T08:54:20.473275Z"
    }
   },
   "outputs": [],
   "source": [
    "submission = pd.DataFrame({'ID': ids,\n",
    "                           'Upvotes':pred_test\n",
    "                           })\n",
    "\n",
    "submission.to_csv(\"final_sub.csv\",index=False)"
   ]
  },
  {
   "cell_type": "code",
   "execution_count": null,
   "metadata": {},
   "outputs": [],
   "source": []
  },
  {
   "cell_type": "markdown",
   "metadata": {},
   "source": [
    "### Approach 3"
   ]
  },
  {
   "cell_type": "code",
   "execution_count": 12,
   "metadata": {
    "ExecuteTime": {
     "end_time": "2019-08-16T15:57:06.828839Z",
     "start_time": "2019-08-16T15:57:06.783956Z"
    }
   },
   "outputs": [],
   "source": [
    "train.drop(['ID','Tag','Username'],axis=1,inplace = True)"
   ]
  },
  {
   "cell_type": "code",
   "execution_count": 13,
   "metadata": {
    "ExecuteTime": {
     "end_time": "2019-08-16T15:57:24.469574Z",
     "start_time": "2019-08-16T15:57:24.180443Z"
    }
   },
   "outputs": [
    {
     "data": {
      "image/png": "[encoded data removed]",
      "text/plain": [
       "<Figure size 720x360 with 2 Axes>"
      ]
     },
     "metadata": {
      "needs_background": "light"
     },
     "output_type": "display_data"
    }
   ],
   "source": [
    "plt.figure(figsize=(10,5))\n",
    "sns.heatmap(train.corr(),annot=True,cmap='hsv',fmt='.2f',linewidths=2)\n",
    "plt.show()"
   ]
  },
  {
   "cell_type": "code",
   "execution_count": 14,
   "metadata": {
    "ExecuteTime": {
     "end_time": "2019-08-16T15:57:48.667127Z",
     "start_time": "2019-08-16T15:57:48.657139Z"
    }
   },
   "outputs": [],
   "source": [
    "X = train.drop(['Upvotes'],axis=1)\n",
    "y= train['Upvotes']"
   ]
  },
  {
   "cell_type": "code",
   "execution_count": 15,
   "metadata": {
    "ExecuteTime": {
     "end_time": "2019-08-16T15:58:22.579847Z",
     "start_time": "2019-08-16T15:58:18.450243Z"
    }
   },
   "outputs": [],
   "source": [
    "from sklearn.model_selection import train_test_split\n",
    "X_train, X_test, y_train, y_test = train_test_split(X, y, test_size=0.7, random_state=101)\n"
   ]
  },
  {
   "cell_type": "code",
   "execution_count": 16,
   "metadata": {
    "ExecuteTime": {
     "end_time": "2019-08-16T15:58:56.065101Z",
     "start_time": "2019-08-16T15:58:55.599758Z"
    }
   },
   "outputs": [],
   "source": [
    "from sklearn.linear_model import LinearRegression\n",
    "LR = LinearRegression()\n",
    "LR.fit(X_train,y_train)\n",
    "y_pred = LR.predict(X_test)"
   ]
  },
  {
   "cell_type": "code",
   "execution_count": 17,
   "metadata": {
    "ExecuteTime": {
     "end_time": "2019-08-16T15:59:27.620974Z",
     "start_time": "2019-08-16T15:59:27.555098Z"
    }
   },
   "outputs": [
    {
     "name": "stdout",
     "output_type": "stream",
     "text": [
      "MAE: 615.0954585681604\n",
      "MSE: 9088112.732861042\n",
      "RMSE: 3014.6496865906397\n",
      "R2_score:  0.2621953895878918\n"
     ]
    }
   ],
   "source": [
    "from sklearn import metrics\n",
    "\n",
    "print('MAE:', metrics.mean_absolute_error(y_test, y_pred))\n",
    "print('MSE:', metrics.mean_squared_error(y_test, y_pred))\n",
    "print('RMSE:', np.sqrt(metrics.mean_squared_error(y_test, y_pred)))\n",
    "print('R2_score: ', metrics.r2_score(y_test,y_pred))\n",
    "\n"
   ]
  },
  {
   "cell_type": "code",
   "execution_count": 18,
   "metadata": {
    "ExecuteTime": {
     "end_time": "2019-08-16T16:00:20.394383Z",
     "start_time": "2019-08-16T16:00:16.452506Z"
    }
   },
   "outputs": [],
   "source": [
    "from sklearn.preprocessing import PolynomialFeatures\n",
    "\n",
    "R2_score = []\n",
    "RMSE = []\n",
    "for i in range(1,6):    \n",
    "    poly_reg = PolynomialFeatures(degree=i)\n",
    "    X_poly = poly_reg.fit_transform(X_train)\n",
    "    LR = LinearRegression()\n",
    "    LR.fit(X_poly,y_train)\n",
    "    X_ptest=poly_reg.fit_transform(X_test)\n",
    "    y_pred = LR.predict(X_ptest)\n",
    "    R2_score.append(metrics.r2_score(y_test,y_pred))\n",
    "    RMSE.append(np.sqrt(metrics.mean_squared_error(y_test,y_pred)))"
   ]
  },
  {
   "cell_type": "code",
   "execution_count": 19,
   "metadata": {
    "ExecuteTime": {
     "end_time": "2019-08-16T16:00:52.098638Z",
     "start_time": "2019-08-16T16:00:52.092656Z"
    }
   },
   "outputs": [
    {
     "name": "stdout",
     "output_type": "stream",
     "text": [
      "Polynomial Regression model with degree 1 has R squared value as 0.2621953895878819 and RMSE values as 3014.6496865906597\n",
      "Polynomial Regression model with degree 2 has R squared value as 0.8601137765992515 and RMSE values as 1312.6642064586792\n",
      "Polynomial Regression model with degree 3 has R squared value as 0.8878612317978827 and RMSE values as 1175.2873481608751\n",
      "Polynomial Regression model with degree 4 has R squared value as 0.7734080239401236 and RMSE values as 1670.6613819918102\n",
      "Polynomial Regression model with degree 5 has R squared value as -9.355934559141295 and RMSE values as 11294.339004119109\n"
     ]
    }
   ],
   "source": [
    "for i,j in enumerate(R2_score):\n",
    "    print('Polynomial Regression model with degree {} has R squared value as {} and RMSE values as {}'.format(i+1,j,RMSE[i]))"
   ]
  },
  {
   "cell_type": "code",
   "execution_count": 20,
   "metadata": {
    "ExecuteTime": {
     "end_time": "2019-08-16T16:01:36.960398Z",
     "start_time": "2019-08-16T16:01:36.681018Z"
    }
   },
   "outputs": [
    {
     "data": {
      "text/plain": [
       "LinearRegression(copy_X=True, fit_intercept=True, n_jobs=None,\n",
       "         normalize=False)"
      ]
     },
     "execution_count": 20,
     "metadata": {},
     "output_type": "execute_result"
    }
   ],
   "source": [
    "poly_reg = PolynomialFeatures(degree=3)\n",
    "X_poly = poly_reg.fit_transform(X_train)\n",
    "LR = LinearRegression()\n",
    "LR.fit(X_poly,y_train)"
   ]
  },
  {
   "cell_type": "code",
   "execution_count": null,
   "metadata": {},
   "outputs": [],
   "source": []
  },
  {
   "cell_type": "code",
   "execution_count": 4,
   "metadata": {
    "ExecuteTime": {
     "end_time": "2019-08-16T15:24:52.889370Z",
     "start_time": "2019-08-16T15:24:52.653974Z"
    }
   },
   "outputs": [
    {
     "data": {
      "text/html": [
       "<div>\n",
       "<style scoped>\n",
       "    .dataframe tbody tr th:only-of-type {\n",
       "        vertical-align: middle;\n",
       "    }\n",
       "\n",
       "    .dataframe tbody tr th {\n",
       "        vertical-align: top;\n",
       "    }\n",
       "\n",
       "    .dataframe thead th {\n",
       "        text-align: right;\n",
       "    }\n",
       "</style>\n",
       "<table border=\"1\" class=\"dataframe\">\n",
       "  <thead>\n",
       "    <tr style=\"text-align: right;\">\n",
       "      <th></th>\n",
       "      <th>ID</th>\n",
       "      <th>Tag</th>\n",
       "      <th>Reputation</th>\n",
       "      <th>Answers</th>\n",
       "      <th>Username</th>\n",
       "      <th>Views</th>\n",
       "    </tr>\n",
       "  </thead>\n",
       "  <tbody>\n",
       "    <tr>\n",
       "      <th>0</th>\n",
       "      <td>366953</td>\n",
       "      <td>a</td>\n",
       "      <td>5645.0</td>\n",
       "      <td>3.0</td>\n",
       "      <td>50652</td>\n",
       "      <td>33200.0</td>\n",
       "    </tr>\n",
       "    <tr>\n",
       "      <th>1</th>\n",
       "      <td>71864</td>\n",
       "      <td>c</td>\n",
       "      <td>24511.0</td>\n",
       "      <td>6.0</td>\n",
       "      <td>37685</td>\n",
       "      <td>2730.0</td>\n",
       "    </tr>\n",
       "    <tr>\n",
       "      <th>2</th>\n",
       "      <td>141692</td>\n",
       "      <td>i</td>\n",
       "      <td>927.0</td>\n",
       "      <td>1.0</td>\n",
       "      <td>135293</td>\n",
       "      <td>21167.0</td>\n",
       "    </tr>\n",
       "    <tr>\n",
       "      <th>3</th>\n",
       "      <td>316833</td>\n",
       "      <td>i</td>\n",
       "      <td>21.0</td>\n",
       "      <td>6.0</td>\n",
       "      <td>166998</td>\n",
       "      <td>18528.0</td>\n",
       "    </tr>\n",
       "    <tr>\n",
       "      <th>4</th>\n",
       "      <td>440445</td>\n",
       "      <td>i</td>\n",
       "      <td>4475.0</td>\n",
       "      <td>10.0</td>\n",
       "      <td>53504</td>\n",
       "      <td>57240.0</td>\n",
       "    </tr>\n",
       "  </tbody>\n",
       "</table>\n",
       "</div>"
      ],
      "text/plain": [
       "       ID Tag  Reputation  Answers  Username    Views\n",
       "0  366953   a      5645.0      3.0     50652  33200.0\n",
       "1   71864   c     24511.0      6.0     37685   2730.0\n",
       "2  141692   i       927.0      1.0    135293  21167.0\n",
       "3  316833   i        21.0      6.0    166998  18528.0\n",
       "4  440445   i      4475.0     10.0     53504  57240.0"
      ]
     },
     "execution_count": 4,
     "metadata": {},
     "output_type": "execute_result"
    }
   ],
   "source": [
    "test = pd.read_csv(\"test_8i3B3FC.csv\")\n",
    "test.head()"
   ]
  },
  {
   "cell_type": "code",
   "execution_count": 5,
   "metadata": {
    "ExecuteTime": {
     "end_time": "2019-08-16T15:25:01.525696Z",
     "start_time": "2019-08-16T15:25:01.517172Z"
    }
   },
   "outputs": [
    {
     "data": {
      "text/plain": [
       "(141448, 6)"
      ]
     },
     "execution_count": 5,
     "metadata": {},
     "output_type": "execute_result"
    }
   ],
   "source": [
    "test.shape"
   ]
  },
  {
   "cell_type": "code",
   "execution_count": 21,
   "metadata": {
    "ExecuteTime": {
     "end_time": "2019-08-16T16:02:21.488253Z",
     "start_time": "2019-08-16T16:02:21.476266Z"
    }
   },
   "outputs": [],
   "source": [
    "test_set_X = test[['Reputation','Answers','Views']]"
   ]
  },
  {
   "cell_type": "code",
   "execution_count": 22,
   "metadata": {
    "ExecuteTime": {
     "end_time": "2019-08-16T16:02:53.425761Z",
     "start_time": "2019-08-16T16:02:53.246415Z"
    }
   },
   "outputs": [],
   "source": [
    "test_poly = poly_reg.fit_transform(test_set_X)\n",
    "test_set_upvotes = LR.predict(test_poly)"
   ]
  },
  {
   "cell_type": "code",
   "execution_count": 24,
   "metadata": {
    "ExecuteTime": {
     "end_time": "2019-08-16T16:03:35.528303Z",
     "start_time": "2019-08-16T16:03:35.503366Z"
    }
   },
   "outputs": [],
   "source": [
    "final_df = pd.concat([test['ID'],pd.DataFrame(np.round(test_set_upvotes),columns=['Upvotes'],dtype=int)],axis=1)"
   ]
  },
  {
   "cell_type": "code",
   "execution_count": 25,
   "metadata": {
    "ExecuteTime": {
     "end_time": "2019-08-16T16:03:43.317301Z",
     "start_time": "2019-08-16T16:03:43.297334Z"
    }
   },
   "outputs": [
    {
     "data": {
      "text/html": [
       "<div>\n",
       "<style scoped>\n",
       "    .dataframe tbody tr th:only-of-type {\n",
       "        vertical-align: middle;\n",
       "    }\n",
       "\n",
       "    .dataframe tbody tr th {\n",
       "        vertical-align: top;\n",
       "    }\n",
       "\n",
       "    .dataframe thead th {\n",
       "        text-align: right;\n",
       "    }\n",
       "</style>\n",
       "<table border=\"1\" class=\"dataframe\">\n",
       "  <thead>\n",
       "    <tr style=\"text-align: right;\">\n",
       "      <th></th>\n",
       "      <th>ID</th>\n",
       "      <th>Upvotes</th>\n",
       "    </tr>\n",
       "  </thead>\n",
       "  <tbody>\n",
       "    <tr>\n",
       "      <th>0</th>\n",
       "      <td>366953</td>\n",
       "      <td>208</td>\n",
       "    </tr>\n",
       "    <tr>\n",
       "      <th>1</th>\n",
       "      <td>71864</td>\n",
       "      <td>3</td>\n",
       "    </tr>\n",
       "    <tr>\n",
       "      <th>2</th>\n",
       "      <td>141692</td>\n",
       "      <td>35</td>\n",
       "    </tr>\n",
       "    <tr>\n",
       "      <th>3</th>\n",
       "      <td>316833</td>\n",
       "      <td>24</td>\n",
       "    </tr>\n",
       "    <tr>\n",
       "      <th>4</th>\n",
       "      <td>440445</td>\n",
       "      <td>267</td>\n",
       "    </tr>\n",
       "  </tbody>\n",
       "</table>\n",
       "</div>"
      ],
      "text/plain": [
       "       ID  Upvotes\n",
       "0  366953      208\n",
       "1   71864        3\n",
       "2  141692       35\n",
       "3  316833       24\n",
       "4  440445      267"
      ]
     },
     "execution_count": 25,
     "metadata": {},
     "output_type": "execute_result"
    }
   ],
   "source": [
    "final_df.head()"
   ]
  },
  {
   "cell_type": "code",
   "execution_count": 26,
   "metadata": {
    "ExecuteTime": {
     "end_time": "2019-08-16T16:04:23.717046Z",
     "start_time": "2019-08-16T16:04:23.203855Z"
    }
   },
   "outputs": [],
   "source": [
    "final_df.to_csv(\"Test_Output.csv\", index=False)"
   ]
  },
  {
   "cell_type": "code",
   "execution_count": 6,
   "metadata": {
    "ExecuteTime": {
     "end_time": "2019-08-16T15:25:53.626644Z",
     "start_time": "2019-08-16T15:25:53.552544Z"
    }
   },
   "outputs": [
    {
     "data": {
      "text/html": [
       "<div>\n",
       "<style scoped>\n",
       "    .dataframe tbody tr th:only-of-type {\n",
       "        vertical-align: middle;\n",
       "    }\n",
       "\n",
       "    .dataframe tbody tr th {\n",
       "        vertical-align: top;\n",
       "    }\n",
       "\n",
       "    .dataframe thead th {\n",
       "        text-align: right;\n",
       "    }\n",
       "</style>\n",
       "<table border=\"1\" class=\"dataframe\">\n",
       "  <thead>\n",
       "    <tr style=\"text-align: right;\">\n",
       "      <th></th>\n",
       "      <th>ID</th>\n",
       "      <th>Upvotes</th>\n",
       "    </tr>\n",
       "  </thead>\n",
       "  <tbody>\n",
       "    <tr>\n",
       "      <th>0</th>\n",
       "      <td>7</td>\n",
       "      <td>500</td>\n",
       "    </tr>\n",
       "    <tr>\n",
       "      <th>1</th>\n",
       "      <td>9</td>\n",
       "      <td>500</td>\n",
       "    </tr>\n",
       "    <tr>\n",
       "      <th>2</th>\n",
       "      <td>12</td>\n",
       "      <td>500</td>\n",
       "    </tr>\n",
       "    <tr>\n",
       "      <th>3</th>\n",
       "      <td>13</td>\n",
       "      <td>500</td>\n",
       "    </tr>\n",
       "    <tr>\n",
       "      <th>4</th>\n",
       "      <td>16</td>\n",
       "      <td>500</td>\n",
       "    </tr>\n",
       "  </tbody>\n",
       "</table>\n",
       "</div>"
      ],
      "text/plain": [
       "   ID  Upvotes\n",
       "0   7      500\n",
       "1   9      500\n",
       "2  12      500\n",
       "3  13      500\n",
       "4  16      500"
      ]
     },
     "execution_count": 6,
     "metadata": {},
     "output_type": "execute_result"
    }
   ],
   "source": [
    "sub = pd.read_csv(\"sample_submission_OR5kZa5.csv\")\n",
    "sub.head()"
   ]
  },
  {
   "cell_type": "code",
   "execution_count": null,
   "metadata": {},
   "outputs": [],
   "source": []
  }
 ],
 "metadata": {
  "kernelspec": {
   "display_name": "Python 3",
   "language": "python",
   "name": "python3"
  },
  "language_info": {
   "codemirror_mode": {
    "name": "ipython",
    "version": 3
   },
   "file_extension": ".py",
   "mimetype": "text/x-python",
   "name": "python",
   "nbconvert_exporter": "python",
   "pygments_lexer": "ipython3",
   "version": "3.6.6"
  }
 },
 "nbformat": 4,
 "nbformat_minor": 2
}
